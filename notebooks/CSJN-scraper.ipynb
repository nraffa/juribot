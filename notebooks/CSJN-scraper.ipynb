{
  "cells": [
    {
      "cell_type": "markdown",
      "metadata": {},
      "source": [
        "- https://www.geeksforgeeks.org/download-anything-to-google-drive-using-google-colab/\n",
        "- https://realpython.com/python-download-file-from-url/\n"
      ]
    },
    {
      "cell_type": "code",
      "execution_count": null,
      "metadata": {},
      "outputs": [],
      "source": [
        "from google.colab import drive\n",
        "from concurrent.futures import ThreadPoolExecutor\n",
        "import requests"
      ]
    },
    {
      "cell_type": "code",
      "execution_count": 4,
      "metadata": {
        "colab": {
          "base_uri": "https://localhost:8080/"
        },
        "id": "epXHSxE8pP4Q",
        "outputId": "8919b207-d4f7-42d6-8747-8ff780240c8f"
      },
      "outputs": [
        {
          "name": "stdout",
          "output_type": "stream",
          "text": [
            "Drive already mounted at /content/drive; to attempt to forcibly remount, call drive.mount(\"/content/drive\", force_remount=True).\n"
          ]
        }
      ],
      "source": [
        "# Load the Drive helper and mount\n",
        "drive.mount('/content/drive')"
      ]
    },
    {
      "cell_type": "code",
      "execution_count": 5,
      "metadata": {
        "id": "PAVKOHEGrwnR"
      },
      "outputs": [],
      "source": [
        "FOLDER_PATH = '/content/drive/MyDrive/projects/legal-chatgpt/data/CSJN'"
      ]
    },
    {
      "cell_type": "code",
      "execution_count": null,
      "metadata": {},
      "outputs": [],
      "source": [
        "filenameList = []\n",
        "failedURLsDownloadsList = []\n",
        "\n",
        "baseURL = \"http://sjservicios.csjn.gov.ar/sj/verTomo?tomoId=\"\n",
        "query_parameters = {\"downloadformat\": \"pdf\"}"
      ]
    },
    {
      "cell_type": "code",
      "execution_count": null,
      "metadata": {},
      "outputs": [],
      "source": [
        "def downloadFile(targetURL ):\n",
        "\n",
        "  print(f'Scraping from url: {targetURL}')\n",
        "\n",
        "  with requests.get(targetURL, stream=True, params=query_parameters) as response:\n",
        "    \n",
        "    if \"content-disposition\" in response.headers:\n",
        "      content_disposition = response.headers['content-disposition']\n",
        "      filename = content_disposition.split('filename=')[1]\n",
        "      filenameList.append(filename)\n",
        "      print(f'Working on the file: {filename}')\n",
        "      \n",
        "      with open(FOLDER_PATH + '/' + filename, mode=\"wb\") as file:\n",
        "\n",
        "        for chunk in response.iter_content(chunk_size=10 * 1024):\n",
        "            file.write(chunk)\n",
        "        print('saving pdf file in drive...')\n",
        "\n",
        "    else:\n",
        "      failedURLsDownloadsList.append(targetURL)\n",
        "      print(f'No file founded on: {targetURL}')\n"
      ]
    },
    {
      "cell_type": "code",
      "execution_count": null,
      "metadata": {},
      "outputs": [],
      "source": [
        "# testing function\n",
        "for i in range(441,442):\n",
        "  targetURL = baseURL + str(i)\n",
        "  downloadFile(targetURL)"
      ]
    },
    {
      "cell_type": "code",
      "execution_count": null,
      "metadata": {},
      "outputs": [],
      "source": [
        "# create the lists of urls to scrape\n",
        "baseURL = \"http://sjservicios.csjn.gov.ar/sj/verTomo?tomoId=\"\n",
        "targetURLsList = []\n",
        "for i in range(250, 490):\n",
        "  targetURL = baseURL + str(i)\n",
        "  targetURLsList.append(targetURL)"
      ]
    },
    {
      "cell_type": "code",
      "execution_count": null,
      "metadata": {},
      "outputs": [],
      "source": [
        "filenameList = []\n",
        "failedURLsDownloadsList = []\n",
        "\n",
        "query_parameters = {\"downloadformat\": \"pdf\"}\n",
        "\n",
        "with ThreadPoolExecutor() as executor: \n",
        "  executor.map(downloadFile, targetURLsList )"
      ]
    }
  ],
  "metadata": {
    "colab": {
      "provenance": []
    },
    "kernelspec": {
      "display_name": "Python 3",
      "name": "python3"
    },
    "language_info": {
      "name": "python"
    }
  },
  "nbformat": 4,
  "nbformat_minor": 0
}
