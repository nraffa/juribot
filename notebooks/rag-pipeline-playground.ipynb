{
 "cells": [
  {
   "cell_type": "markdown",
   "metadata": {},
   "source": [
    "## Testing the chroma db\n",
    "\n",
    "That will be involving testing first everything locally: \n",
    "\n",
    "- data loaders\n",
    "- splitting the data into chunks\n",
    "- indexing the chunks into the vector store (chromadb in this case)\n",
    "- creating a retriever\n",
    "- setting up langchain retrievalQA chain \n",
    "- to do later: make it so that the bot remembers the conversation of the chain. (https://python.langchain.com/docs/expression_language/cookbook/retrieval)\n"
   ]
  },
  {
   "cell_type": "code",
   "execution_count": 1,
   "metadata": {},
   "outputs": [],
   "source": [
    "# import libraries\n",
    "from langchain.document_loaders import PyPDFLoader\n",
    "from langchain.text_splitter import RecursiveCharacterTextSplitter\n",
    "import os"
   ]
  },
  {
   "cell_type": "code",
   "execution_count": 4,
   "metadata": {},
   "outputs": [],
   "source": [
    "# change directory to the root of the project\n",
    "os.chdir('..')"
   ]
  },
  {
   "cell_type": "code",
   "execution_count": 3,
   "metadata": {},
   "outputs": [],
   "source": [
    "FOLDER_PATH = 'raw-data/commented-penal-code'"
   ]
  },
  {
   "cell_type": "code",
   "execution_count": 5,
   "metadata": {},
   "outputs": [
    {
     "name": "stderr",
     "output_type": "stream",
     "text": [
      "EOF marker not found\n"
     ]
    },
    {
     "name": "stdout",
     "output_type": "stream",
     "text": [
      "Stream has ended unexpectedly\n"
     ]
    }
   ],
   "source": [
    "# test what happens to the corrupted files\n",
    "loader = PyPDFLoader(file_path='raw-data/CSJN/LibroVol308.1.pdf')\n",
    "\n",
    "textSplitter = RecursiveCharacterTextSplitter(\n",
    "    chunk_size=1000,\n",
    "    chunk_overlap=0,\n",
    ")\n",
    "\n",
    "try: \n",
    "    data = loader.load_and_split(textSplitter)\n",
    "except Exception as e:\n",
    "    print(e)\n"
   ]
  },
  {
   "cell_type": "code",
   "execution_count": 6,
   "metadata": {},
   "outputs": [],
   "source": [
    "# test what happens to a correct file\n",
    "loader = PyPDFLoader(file_path='raw-data/CSJN/LibroVol331-3-2008.pdf')\n",
    "\n",
    "textSplitter = RecursiveCharacterTextSplitter(\n",
    "    chunk_size=1000,\n",
    "    chunk_overlap=0,\n",
    ")\n",
    "\n",
    "try: \n",
    "    data = loader.load_and_split(textSplitter)\n",
    "except Exception as e:\n",
    "    print(e)\n"
   ]
  },
  {
   "cell_type": "code",
   "execution_count": 8,
   "metadata": {},
   "outputs": [
    {
     "data": {
      "text/plain": [
       "list"
      ]
     },
     "execution_count": 8,
     "metadata": {},
     "output_type": "execute_result"
    }
   ],
   "source": [
    "type(data)"
   ]
  },
  {
   "cell_type": "markdown",
   "metadata": {},
   "source": [
    "### Splittting the data into chunks!"
   ]
  },
  {
   "cell_type": "code",
   "execution_count": null,
   "metadata": {},
   "outputs": [],
   "source": [
    "from langchain.document_loaders import DirectoryLoader"
   ]
  },
  {
   "cell_type": "code",
   "execution_count": null,
   "metadata": {},
   "outputs": [],
   "source": [
    "textSplitter = RecursiveCharacterTextSplitter(\n",
    "    chunk_size=1000,\n",
    "    chunk_overlap=0,\n",
    ")"
   ]
  },
  {
   "cell_type": "code",
   "execution_count": null,
   "metadata": {},
   "outputs": [],
   "source": [
    "directoryLoader = DirectoryLoader(FOLDER_PATH, show_progress=True, use_multithreading=True, loader_cls=PyPDFLoader)"
   ]
  },
  {
   "cell_type": "code",
   "execution_count": null,
   "metadata": {},
   "outputs": [],
   "source": [
    "documents = directoryLoader.load_and_split(textSplitter) # change this variable name to chunk next time"
   ]
  },
  {
   "cell_type": "code",
   "execution_count": null,
   "metadata": {},
   "outputs": [],
   "source": [
    "len(documents)"
   ]
  },
  {
   "cell_type": "markdown",
   "metadata": {},
   "source": [
    "### Embeddings Model"
   ]
  },
  {
   "cell_type": "code",
   "execution_count": 5,
   "metadata": {},
   "outputs": [],
   "source": [
    "# using it now for embeddin the actual documents\n",
    "from langchain.embeddings.sentence_transformer import SentenceTransformerEmbeddings"
   ]
  },
  {
   "cell_type": "code",
   "execution_count": 6,
   "metadata": {},
   "outputs": [
    {
     "name": "stderr",
     "output_type": "stream",
     "text": [
      "/opt/homebrew/anaconda3/envs/rag/lib/python3.10/site-packages/tqdm/auto.py:21: TqdmWarning: IProgress not found. Please update jupyter and ipywidgets. See https://ipywidgets.readthedocs.io/en/stable/user_install.html\n",
      "  from .autonotebook import tqdm as notebook_tqdm\n"
     ]
    }
   ],
   "source": [
    "# create the open-source embedding function\n",
    "## here may be possible that it will be necessary to have to run the embeddings with the openai model\n",
    "embeddingFunction = SentenceTransformerEmbeddings(model_name='sentence-transformers/LaBSE')"
   ]
  },
  {
   "cell_type": "markdown",
   "metadata": {},
   "source": [
    "### indexing the chunks to chroma db"
   ]
  },
  {
   "cell_type": "code",
   "execution_count": 6,
   "metadata": {},
   "outputs": [],
   "source": [
    "from langchain.vectorstores import Chroma"
   ]
  },
  {
   "cell_type": "code",
   "execution_count": null,
   "metadata": {},
   "outputs": [],
   "source": [
    "chromaDatabase = Chroma.from_documents(documents, embeddingFunction, persist_directory='chromaDB')"
   ]
  },
  {
   "cell_type": "markdown",
   "metadata": {},
   "source": [
    "### loading the index from disk"
   ]
  },
  {
   "cell_type": "code",
   "execution_count": 8,
   "metadata": {},
   "outputs": [],
   "source": [
    "# load from disk\n",
    "loadedChromaDatabase = Chroma(persist_directory='chromaDB', embedding_function=embeddingFunction)"
   ]
  },
  {
   "cell_type": "code",
   "execution_count": 10,
   "metadata": {},
   "outputs": [
    {
     "data": {
      "text/plain": [
       "[(Document(page_content='tenido la intención deliberada de no presentar la declaración jurada patrimonial en \\nel momento oportuno. \\nAdemás, cabe inferir la existencia de un especial elemento subjetivo distinto del \\ndolo, cuyo contenido ha sido definido como la intención de inducir a error sobre la \\nsituación patrimonial que debe reflejar la declaración jurada :>84. \\nDebe destacarse la relevancia de las exigencias subjetivas referidas, ya que preci\\xad\\nsamente la malicia del sujeto caracterizará su omisión como delictiva y la diferencia\\xad\\nrá de una infracción meramente administrativa 585. Un aspecto importante a ser des\\xad\\ntacado consiste en la dificultad que puede presentar cada caso para acreditar que se \\nha omitido maliciosamente. Una pauta que refleje ese ánimo en el sujeto puede en-\\n(582) DO:-;NA, \"Delitos ... \", p. 410. \\n(583) En CNFed. Crim. v Corree., sala n, \"Chescotta\", del 2003/ 12/30, se descartó la posibi\\xad\\nlidad de imputar este delito\\'en virtud de una omisión meramente negligente.', metadata={'page': 882, 'source': 'raw-data/commented-penal-code/D´alessio, Andrés J. - Codigo Penal Comentado y Anotado Parte Especial -Tomo II.pdf'}),\n",
       "  1.3107168674468994),\n",
       " (Document(page_content='actos no comprendidos entre los que están habilitados a realizar (arts. 131, 134 Y 135, \\nCód. Civil; y 10, 11 Y 12, Cód. de Comercio). Son incapaces, aun cuando no hubieran \\nsido declarados tales, los individuos a los que la ley civil niega capacidad para nego\\xad\\nciar, los dementes (art. 141, Cód. Civil) o sordomudos (art. 153, Cód. Civil), y todos \\naquellos que por una u otra causa, en el momento del hecho, padezcan una disminu\\xad\\nción de su inteligencia, voluntad o juicio que les impida resguardar debidamente sus \\nintereses económicos 857. En tal sentido, se resolvió que la circunvención de incapaz \\nexige que el sujeto pasivo se encuentre en inferioridad de condiciones para resistir la \\nvoluntad de quien lo induce a realizar lo que constituye la objetividad del delito, por lo \\nque cabe entender que el aspecto objetivo de la norma no exige que se compruebe que \\nuna persona se encontraba en estado de inconsciencia, o que se trataba de un demente,', metadata={'page': 519, 'source': 'raw-data/commented-penal-code/D´alessio, Andrés J. - Codigo Penal Comentado y Anotado Parte Especial -Tomo II.pdf'}),\n",
       "  1.3217123746871948),\n",
       " (Document(page_content='son de representación legal o conllencional, pues no asumen el carácter de parte, que incumbe a \\naquellos\". \\n(81) Art. 1077: \"Todo delito hace nacer la obligación de reparar el peljuicio que porél resultare \\na otra persona \". \\n(B2) Art. 107B: \"La obligación de resarcir el daño causado por los actos ilícitos comprende, \\nademás de la indemnización de pérdidas e intereses, la reparación del agravio moral ocasionado a \\nla víctima. La acción por indemnización del daño moral sólo competerá al damnificado directo; si \\ndel hecho hubiere resultado la muerte de la ~ictima, únicamente tendrán acción los herederos \\n{orzosos\". \\n(B3) MOSSET lTURRAsPE, op. cit., pS. 252/253. FO~TA~ B.~l.ESTRA, op. cit., pS. 506/507, dijo en rela\\xad\\nción con este punto que: \"El arto 1079 del Cód. Cillil concede la acción de reparación aun a los \\nperjudicados indirectamente porel delito. ESla disposición ... em\\'Uellleel delicado problema que', metadata={'page': 197, 'source': 'raw-data/commented-penal-code/D´alessio, Andrés J. - Codigo Penal Comentado y Anotado Parte General -Tomo I.pdf'}),\n",
       "  1.355034589767456),\n",
       " (Document(page_content='das en una carta personal -no oficial- dirigida a un tercero el hecho no encuadraba \\nen el art. 110 127; 3) si el tercero destinatario la da a conocer, podría incurrir en una \\ninfidencia que puede resultar típica eventualmente del art. 155 -violación de secre\\xad\\ntos-, o bien en una injuria 128. \\nTipo subjetivo \\nLa injuria es un delito doloso. Es posible su comisión con dolo directo, indirecto y \\neventual 129. El autor debe conocer el significado injurioso de su conducta y tener \\nvoluntad de actuar en base a dicho conocimiento. La exigencia de un \"animus inju\\xad\\nriandi\" o la observancia consciente y voluntaria de una conducta de significado ofen\\xad\\nsivo para el honor de terceros, es decir un especial ánimo de ofender, de herir, ha sido \\nun requisito exigido por algunos autores !3u. En cambio, otros señalan que no resulta \\nnecesario este ánimo de herir el honor ajeno, y que alcanza con el dolo común a to\\xad\\ndos los delitos 131, ya que el tipo no exige ningún especial elemento subje\\xad', metadata={'page': 125, 'source': 'raw-data/commented-penal-code/D´alessio, Andrés J. - Codigo Penal Comentado y Anotado Parte Especial -Tomo II.pdf'}),\n",
       "  1.355490803718567)]"
      ]
     },
     "execution_count": 10,
     "metadata": {},
     "output_type": "execute_result"
    }
   ],
   "source": [
    "answerDocs = loadedChromaDatabase.similarity_search_with_score('Delito')\n",
    "answerDocs"
   ]
  },
  {
   "cell_type": "markdown",
   "metadata": {},
   "source": [
    "### testing both chromadb objects for a similiraty search"
   ]
  },
  {
   "cell_type": "code",
   "execution_count": 8,
   "metadata": {},
   "outputs": [],
   "source": [
    "query = 'Que tipo de crimen es cuando alguien roba un celular?'\n",
    "query2 = 'Que tipo de lesion es cuando alguien le pega a otra persona y le saca los dientes?'"
   ]
  },
  {
   "cell_type": "code",
   "execution_count": 12,
   "metadata": {},
   "outputs": [
    {
     "name": "stdout",
     "output_type": "stream",
     "text": [
      "ANSWER with a score of 1.12496018409729: \n",
      "\n",
      "tipo que comentamos del previsto en el inc. 1\" del art. 143, ya que en esta última \n",
      "disposición el sujeto activo debe ser funcionario público y la privación ilegal de la \n",
      "libertad debe producirse con abuso de las funciones propias de aquel funcionario o \n",
      "con violación de las formalidades prescriptas por la ley 1.10 . \n",
      ". ~' \n",
      "Art. 142. -Se aplicará prisión o reclusión de dos a seis años, al que pri­\n",
      "vare a otro de su libertad personal, cuando concurra alguna de las circuns­\n",
      "tancias siguientes: \n",
      "1 ° Si el hecho se cometiere con violencias o amenazas o con fines reli­\n",
      "giosos o de venganza; \n",
      "2° Si el hecho se cometiere en la persona de un ascendiente, de un her­\n",
      "mano, del cónyuge o de otro individuo a quien se deba respeto particular; \n",
      "3° Si resultare grave daño a la persona, a la salud o a los negocios del \n",
      "ofendido, siempre que el hecho no importare otro delito por el cual la ley \n",
      "imponga pena mayor; \n",
      "4° Si el hecho se cometiere simulando autoridad pública u orden de \n",
      "autoridad pública;\n",
      "\n",
      "SOURCE: \n",
      "\n",
      "Found in raw-data/commented-penal-code/D´alessio, Andrés J. - Codigo Penal Comentado y Anotado Parte Especial -Tomo II.pdf in page 262\n"
     ]
    }
   ],
   "source": [
    "# using the loaded from disk version\n",
    "\n",
    "answerDocs = loadedChromaDatabase.similarity_search_with_score(query2)\n",
    "bestRatedAnswer , score = answerDocs[0]\n",
    "print(f'ANSWER with a score of {score}: \\n')\n",
    "print(bestRatedAnswer.page_content)\n",
    "print('\\nSOURCE: \\n')\n",
    "print(f'Found in {bestRatedAnswer.metadata[\"source\"]} in page {bestRatedAnswer.metadata[\"page\"]}')"
   ]
  },
  {
   "cell_type": "markdown",
   "metadata": {},
   "source": [
    "### generating the retriever out of the chroma db"
   ]
  },
  {
   "cell_type": "code",
   "execution_count": 17,
   "metadata": {},
   "outputs": [],
   "source": [
    "retrieverMMR = loadedChromaDatabase.as_retriever(search_type=\"mmr\")\n",
    "retriever = loadedChromaDatabase.as_retriever(search_type=\"similarity\", search_kwargs={\"k\": 6})"
   ]
  },
  {
   "cell_type": "code",
   "execution_count": 18,
   "metadata": {},
   "outputs": [
    {
     "data": {
      "text/plain": [
       "[Document(page_content='diga cuándo una única resolución que da sentido final a varios movimientos puede ser \\nrelevada como una unidad por el tipo penal J.1. Tal factor es -entonces-la propia \\nestructura del tipo delictivo en cada caso particular: aunque el factor final que rige un \\nproceso causal sea el mismo (matar a alguien), alguno de los actos particulares realiza\\xad\\ndos puede tener, aisladamente, relevancia para distintos tipos delictivos (por ejemplo, \\nla ilícita tenencia de un arma de fuego para el delito de portación ilegítima de armas de \\nguerra) I~,. \\nAsí, Zaffaroni, Alagia y Slokar sostienen que \"el criterio de delimitación para la \\ndeterminación de la consideración unitaria de I\\'arios mOl\\'Ímientos vinculados por el \\nfactor final es tarea que incumbe a los tipos penales, debiendo extraerse del sentido de \\nlos respectivos tipos penales en cuestión, tal como se obtiene mediante interpretación \"lG. \\nEstablecido -entonces- el concepto de unidad de hecho o acción (la actuación', metadata={'page': 595, 'source': 'raw-data/commented-penal-code/D´alessio, Andrés J. - Codigo Penal Comentado y Anotado Parte General -Tomo I.pdf'}),\n",
       " Document(page_content='Art.173 CODIGO PENAL 482 \\nc) Acción típica: Es la de sustraer. Esta expresión no sólo abarca las conductas de \\napoderamiento propias del hurto (mediante una acción furtiva 660), sino todas aque\\xad\\nllas mediante las cuales se priva al sujeto pasivo de la tenencia legítima de la cosa, ya \\nsea para desplazarla a una distinta esfera de custodia o, cuando menos, para colocar\\xad\\nla fuera de aquélla 661. En este caso, el sujeto activo se apodera de la cosa valiéndose \\nde un fraude por el que logra que el tenedor, sin darse cuenta, realice un acto de \\nentrega 662. Quedan fuera de la tipicidad de esta figura todas aquellas conductas ten\\xad\\ndientes a privar de la cosa al tenedor legítimo sin que impliquen sustracción del obje\\xad\\nto de la esfera de aquella tenencia (p. ej., dañar, inutilizar, destruir sin quitar). \\nd) Objeto del delito: Puede serlo cualquier cosa mueble en el sentido que se le ha \\ndado al tratar la figura de hurto (art. 162).', metadata={'page': 490, 'source': 'raw-data/commented-penal-code/D´alessio, Andrés J. - Codigo Penal Comentado y Anotado Parte Especial -Tomo II.pdf'}),\n",
       " Document(page_content='general del arto 194, pues no se trata de C1Ialqllier entorpecimiento o illterrupción sino de aquella \\nque afecta la seguridad carmín; 2. Para que se configure el delito prellisto en el arto 197, CR es \\nnecesario que la ruilización del teléfono, por S1l reiteración e intensidad, implique pe/juicio no \\nsólo para el titular de la línea, sino para el seruicio y su conjunto; 3. El uso anormal e ilícito del \\nteléfono, que por su intensidad o reiteración alcance a interrumpir o entorpecer la comunicación \\ntelefónica -lo que supone cierto nivel que no puede establecerse a priori-puede llegar a integrar \\nla infracción del arto 197 del Cp. mm cuando las acciones criminosas incidan sobre uno solo de los \\naparatos; 4. 1:. a conducta desplegada por el imputado se encuadra en lafigura del entorpecimien\\xad\\nto de la comunicación telefónica del arto 197 del Cp. por la que debe responder penalmente, ya que \\npor su condición de empleado policial afectaba la seguridad pública, pudiendo comprender la', metadata={'page': 638, 'source': 'raw-data/commented-penal-code/D´alessio, Andrés J. - Codigo Penal Comentado y Anotado Parte Especial -Tomo II.pdf'}),\n",
       " Document(page_content='615 Cn~CURSO DE DWTOS Art.55 \\natención a que \"siendo iguales sus mátimos punitims, aquél -el arto 150-conmina \\nCOIl un mínimo mayor\\') 230; la usurpación y el hurto calificado por el uso de llave (en el \\ncaso, mediante la utilización de una llave que había conservado en su poder, el imputa\\xad\\ndo ingresó a la habitación de la damnificada sustituyendo la cerradura por un candado \\ny abandonó en la calle los muebles y enseres de la habitación) 2:>1. \\n7. El robo y el entorpecimiento de un servicio público (en el caso, el procesado \\n-mediante la peladura de los cables de una línea de teléfono público- realizó una \\nconexión clandestina sustrayendo la línea) 232; el robo y el contrabando (cuando no se \\nadvirtió \"que el apoderamiento ilegítimo constituya un delito medio, tendiente a posibi\\xad\\nlitarel delito de contrabando \\') 253; el robo calificado por el uso de armas y la (posterior) \\nresistencia a la autoridad (si el primero había sido consumado y luego se materializa la', metadata={'page': 623, 'source': 'raw-data/commented-penal-code/D´alessio, Andrés J. - Codigo Penal Comentado y Anotado Parte General -Tomo I.pdf'})]"
      ]
     },
     "execution_count": 18,
     "metadata": {},
     "output_type": "execute_result"
    }
   ],
   "source": [
    "# search type mmr\n",
    "retrieverMMR.get_relevant_documents(query)"
   ]
  },
  {
   "cell_type": "code",
   "execution_count": 19,
   "metadata": {},
   "outputs": [
    {
     "data": {
      "text/plain": [
       "[Document(page_content='diga cuándo una única resolución que da sentido final a varios movimientos puede ser \\nrelevada como una unidad por el tipo penal J.1. Tal factor es -entonces-la propia \\nestructura del tipo delictivo en cada caso particular: aunque el factor final que rige un \\nproceso causal sea el mismo (matar a alguien), alguno de los actos particulares realiza\\xad\\ndos puede tener, aisladamente, relevancia para distintos tipos delictivos (por ejemplo, \\nla ilícita tenencia de un arma de fuego para el delito de portación ilegítima de armas de \\nguerra) I~,. \\nAsí, Zaffaroni, Alagia y Slokar sostienen que \"el criterio de delimitación para la \\ndeterminación de la consideración unitaria de I\\'arios mOl\\'Ímientos vinculados por el \\nfactor final es tarea que incumbe a los tipos penales, debiendo extraerse del sentido de \\nlos respectivos tipos penales en cuestión, tal como se obtiene mediante interpretación \"lG. \\nEstablecido -entonces- el concepto de unidad de hecho o acción (la actuación', metadata={'page': 595, 'source': 'raw-data/commented-penal-code/D´alessio, Andrés J. - Codigo Penal Comentado y Anotado Parte General -Tomo I.pdf'}),\n",
       " Document(page_content='sión \"lo que hubiera sido más acorde con el carácter de esas calificantes en función del \\ndelito de robo. Pero establecidas como están en el Código, hay que interpretarlas tra\\xad\\ntando de determinar su valor. Según nuestro parecer son supuestos posibles de \\nsubsunción en estos tipos calificados, el ingreso al lugar. .. a través de escalamiento, de \\nganzúa, llave falsa o llave verdadera sustraída o hallada, para allí recurrir a las accio\\xad\\nnes que constituyen robo, sea ejerciendo fuerza en las cosas (apertura violenta de una \\ncaja fuerte, \\'rotura de una vitrina) o violenciafísica en las personas (arrebato para ven\\xad\\ncer la resistencia del dueño a soltar el objeto de la sustracción, un fuerte empellón para \\nponerse fuera del alcance del propietario)\" 311 Por su parte, Aguirre Obarrio opina que \\n\"debería interpretarse que el apoderamiento con fuerza en las cosas y escalamiento es \\nun robo simple, lo mismo que cuando se emplean ganzúas, llaves falsas, etc. Escalar', metadata={'page': 436, 'source': 'raw-data/commented-penal-code/D´alessio, Andrés J. - Codigo Penal Comentado y Anotado Parte Especial -Tomo II.pdf'}),\n",
       " Document(page_content='del sujeto que es coaccionado, sea lícito o ilícito el hecho procurado, en tanto que la \\nextorsión importa un delito contra la propiedad, que se caracteriza por la injusticia o \\nilegitimidad de lo que se pretende) 929, conviene recordar que el delito de coacción, al \\nigual que el de amenazas, resulta de aplicación subsidiaria, siendo su presupuesto de \\naplicación la no previsión del hecho por otros tipos particulares, en los que la coac\\xad\\nción funcione instrumentalmente para la vulneración de distintos bienes jurídicos, \\nlos que absorberían al de coacción 930. \\n4.4. OTRAS CUESTIONES DE INTERÉS \\nCasos especiales de justificación: El uso de las amenazas para hacer o no hacer \\nalgo no debe estar legítimamente autorizado, ya que de lo contrario la conducta en\\xad\\ntraría en el campo de la justificación 931. Alguna parte de la doctrina sostiene que las \\ncoacciones estarían justificadas, por ejemplo, para evitar un suicidio 932.', metadata={'page': 354, 'source': 'raw-data/commented-penal-code/D´alessio, Andrés J. - Codigo Penal Comentado y Anotado Parte Especial -Tomo II.pdf'}),\n",
       " Document(page_content='conductas o hechos) independientes de un mismo sujeto activo; 2) que tales hechos \\nencuadren -cada uno-en tipos penales % y que no haya un tipo penal que trate tal \\npluralidad como un único delito; 3) que respecto de los mismos no se haya extinguido \\nla respectiva acción penal, por prescripción (art. 62 del Cód. Penal) o por otro motivos; \\ny 4) que aún no se hayan juzgado, para poder así tener la posibilidad de juzgamiento en \\nun mismo proceso penal. \\nIgualmente a lo que sucede en el concurso ideal, se distinguen dentro del concurso \\nreal los concursos homogéneos de los heterogéneos. Habrá concurso real homogéneo \\ncuando el sujeto activo realice varias veces el mismo delito (como, por ejemplo, varios \\nhurtos); en tanto que existirá concurso real heterogéneo cuando concurran diferentes \\ntipos penales (un robo, una violación y un homicidio, etc,). Claro que esta distinción \\ncarece de efectos en el Código Penal, salvo a los fines de la medida de la pena, La', metadata={'page': 606, 'source': 'raw-data/commented-penal-code/D´alessio, Andrés J. - Codigo Penal Comentado y Anotado Parte General -Tomo I.pdf'}),\n",
       " Document(page_content='Art.278 CODIGO PENAl 926 \\na) Desde algunos sectores 901 se defiende la tesis de que el lavado de activos afec\\xad\\nta de algún modo al objeto tutelado por la norma cuya infracción genera los bienes. \\nEs decir que el delito de lavado de activos menoscaba el mismo bien jurídico ya lesio\\xad\\nnado por el delito previo. \\nb) Otros 902 sostienen que quien blanquea los bienes procedentes de un delito \\nprevio lesiona la administración de justicia, en la medida en que impide el descubri\\xad\\nmiento por las autoridades de la comisión de un delito previo. \\nc) Para otra corriente, el lavado de activos se presenta como un delito pluriofensivo, \\npues en la realidad menoscaba simultáneamente a la administración de justicia, al or\\xad\\nden socio económico, a la transparencia del sistema financiero o la legitimidad de la \\nactividad económica, e incluso a la salud pública (p. ej., en los casos de narcotráfico) 903. \\nd) Desde otra perspectiva, se entiende que el bien jurídico protegido resulta ser', metadata={'page': 934, 'source': 'raw-data/commented-penal-code/D´alessio, Andrés J. - Codigo Penal Comentado y Anotado Parte Especial -Tomo II.pdf'}),\n",
       " Document(page_content='615 Cn~CURSO DE DWTOS Art.55 \\natención a que \"siendo iguales sus mátimos punitims, aquél -el arto 150-conmina \\nCOIl un mínimo mayor\\') 230; la usurpación y el hurto calificado por el uso de llave (en el \\ncaso, mediante la utilización de una llave que había conservado en su poder, el imputa\\xad\\ndo ingresó a la habitación de la damnificada sustituyendo la cerradura por un candado \\ny abandonó en la calle los muebles y enseres de la habitación) 2:>1. \\n7. El robo y el entorpecimiento de un servicio público (en el caso, el procesado \\n-mediante la peladura de los cables de una línea de teléfono público- realizó una \\nconexión clandestina sustrayendo la línea) 232; el robo y el contrabando (cuando no se \\nadvirtió \"que el apoderamiento ilegítimo constituya un delito medio, tendiente a posibi\\xad\\nlitarel delito de contrabando \\') 253; el robo calificado por el uso de armas y la (posterior) \\nresistencia a la autoridad (si el primero había sido consumado y luego se materializa la', metadata={'page': 623, 'source': 'raw-data/commented-penal-code/D´alessio, Andrés J. - Codigo Penal Comentado y Anotado Parte General -Tomo I.pdf'})]"
      ]
     },
     "execution_count": 19,
     "metadata": {},
     "output_type": "execute_result"
    }
   ],
   "source": [
    "# search type similarity\n",
    "retriever.get_relevant_documents(query)"
   ]
  },
  {
   "cell_type": "markdown",
   "metadata": {},
   "source": [
    "### Setting up rag pipeline"
   ]
  },
  {
   "cell_type": "code",
   "execution_count": 20,
   "metadata": {},
   "outputs": [
    {
     "data": {
      "text/plain": [
       "True"
      ]
     },
     "execution_count": 20,
     "metadata": {},
     "output_type": "execute_result"
    }
   ],
   "source": [
    "from dotenv import load_dotenv\n",
    "\n",
    "load_dotenv()"
   ]
  },
  {
   "cell_type": "code",
   "execution_count": null,
   "metadata": {},
   "outputs": [],
   "source": [
    "from langchain.chains import RetrievalQA\n",
    "from langchain.chat_models import ChatOpenAI\n",
    "\n",
    "llm = ChatOpenAI(model='gpt-3.5-turbo', temperature=0, max_tokens=100)\n",
    "\n",
    "chain = RetrievalQA.from_chain_type(\n",
    "    llm=llm,\n",
    "    retriever=retriever,\n",
    "    verbose=True,\n",
    ")\n",
    "\n",
    "chain.run(query2)"
   ]
  },
  {
   "cell_type": "markdown",
   "metadata": {},
   "source": [
    "following this guide a more \"complex\" rag pipeline: https://python.langchain.com/docs/use_cases/question_answering/"
   ]
  },
  {
   "cell_type": "code",
   "execution_count": null,
   "metadata": {},
   "outputs": [],
   "source": [
    "from langchain.prompts import PromptTemplate\n",
    "from langchain.schema import StrOutputParser\n",
    "from langchain.schema.runnable import RunnablePassthrough\n",
    "\n",
    "template = \"\"\"Use the following pieces of context to answer the question at the end.\n",
    "If you don't know the answer, just say that you don't know, don't try to make up an answer.\n",
    "Use three sentences maximum and keep the answer as concise as possible. When giving an answer say where you found the answer(which document and which page).\n",
    "Always say \"gracias por preguntar!\" at the end of the answer.\n",
    "{context}\n",
    "Question: {question}\n",
    "Helpful Answer:\"\"\"\n",
    "\n",
    "rag_prompt_custom = PromptTemplate.from_template(template)\n",
    "\n",
    "rag_chain = (\n",
    "    {\"context\": retriever , \"question\": RunnablePassthrough()}\n",
    "    | rag_prompt_custom\n",
    "    | llm\n",
    "    | StrOutputParser()\n",
    ")\n",
    "\n",
    "rag_chain.invoke(query2)"
   ]
  },
  {
   "cell_type": "code",
   "execution_count": null,
   "metadata": {},
   "outputs": [],
   "source": [
    "from operator import itemgetter\n",
    "from langchain.schema.runnable import RunnableParallel\n",
    "\n",
    "rag_chain_from_docs = (\n",
    "    {\n",
    "        \"context\": lambda input: input[\"documents\"],\n",
    "        \"question\": itemgetter(\"question\"),\n",
    "    }\n",
    "    | rag_prompt_custom\n",
    "    | llm\n",
    "    | StrOutputParser()\n",
    ")\n",
    "rag_chain_with_source = RunnableParallel(\n",
    "    {\"documents\": retriever, \"question\": RunnablePassthrough()}\n",
    ") | {\n",
    "    \"documents\": lambda input: [doc.metadata for doc in input[\"documents\"]],\n",
    "    \"answer\": rag_chain_from_docs,\n",
    "}\n",
    "\n",
    "rag_chain_with_source.invoke(query2)"
   ]
  },
  {
   "cell_type": "code",
   "execution_count": null,
   "metadata": {},
   "outputs": [],
   "source": [
    "# streaming\n",
    "for chunk in rag_chain_with_source.stream(query2):\n",
    "    print(chunk, end=\"\", flush=True)"
   ]
  },
  {
   "cell_type": "markdown",
   "metadata": {},
   "source": [
    "### Adding memory to the chat"
   ]
  },
  {
   "cell_type": "code",
   "execution_count": null,
   "metadata": {},
   "outputs": [],
   "source": [
    "from langchain.prompts import ChatPromptTemplate, MessagesPlaceholder\n",
    "\n",
    "condense_q_system_prompt = \"\"\"Given a chat history and the latest user question \\\n",
    "which might reference the chat history, formulate a standalone question \\\n",
    "which can be understood without the chat history. Do NOT answer the question, \\\n",
    "just reformulate it if needed and otherwise return it as is.\"\"\"\n",
    "condense_q_prompt = ChatPromptTemplate.from_messages(\n",
    "    [\n",
    "        (\"system\", condense_q_system_prompt),\n",
    "        MessagesPlaceholder(variable_name=\"chat_history\"),\n",
    "        (\"human\", \"{question}\"),\n",
    "    ]\n",
    ")\n",
    "condense_q_chain = condense_q_prompt | llm | StrOutputParser()"
   ]
  },
  {
   "cell_type": "code",
   "execution_count": null,
   "metadata": {},
   "outputs": [],
   "source": [
    "from langchain.schema.messages import AIMessage, HumanMessage\n",
    "\n",
    "condense_q_chain.invoke(\n",
    "    {\n",
    "        \"chat_history\": [\n",
    "            HumanMessage(content=\"What does LLM stand for?\"),\n",
    "            AIMessage(content=\"Large language model\"),\n",
    "        ],\n",
    "        \"question\": \"What is meant by large\",\n",
    "    }\n",
    ")"
   ]
  },
  {
   "cell_type": "code",
   "execution_count": null,
   "metadata": {},
   "outputs": [],
   "source": [
    "qa_system_prompt = \"\"\"Use the following pieces of context to answer the question at the end.\n",
    "If you don't know the answer, just say that you don't know, don't try to make up an answer.\n",
    "Use three sentences maximum and keep the answer as concise as possible. When giving an answer ALWAYS say where you found the answer(DOCUMENT and PAGE found in the metadata).\n",
    "{context}\"\"\"\n",
    "\n",
    "qa_prompt = ChatPromptTemplate.from_messages(\n",
    "    [\n",
    "        (\"system\", qa_system_prompt),\n",
    "        MessagesPlaceholder(variable_name=\"chat_history\"),\n",
    "        (\"human\", \"{question}\"),\n",
    "    ]\n",
    ")\n",
    "\n",
    "\n",
    "def condense_question(input: dict):\n",
    "    if input.get(\"chat_history\"):\n",
    "        return condense_q_chain\n",
    "    else:\n",
    "        return input[\"question\"]\n",
    "\n",
    "\n",
    "rag_chain = (\n",
    "    RunnablePassthrough.assign(context=condense_question | retriever )\n",
    "    | qa_prompt\n",
    "    | llm\n",
    ")"
   ]
  },
  {
   "cell_type": "code",
   "execution_count": null,
   "metadata": {},
   "outputs": [],
   "source": [
    "chat_history = []\n",
    "\n",
    "question = query2\n",
    "ai_msg = rag_chain.invoke({\"question\": question, \"chat_history\": chat_history})\n",
    "chat_history.extend([HumanMessage(content=question), ai_msg])\n",
    "\n",
    "second_question = \"Cual es la pena para ese delito?\"\n",
    "ai_ms_2 = rag_chain.invoke({\"question\": second_question, \"chat_history\": chat_history})\n",
    "chat_history.extend([HumanMessage(content=second_question), ai_ms_2])"
   ]
  },
  {
   "cell_type": "code",
   "execution_count": null,
   "metadata": {},
   "outputs": [],
   "source": [
    "third_question = \"Que numero de articulo es el delito mencionado?\"\n",
    "ai_ms_3 = rag_chain.invoke({\"question\": third_question, \"chat_history\": chat_history})\n",
    "chat_history.extend([HumanMessage(content=third_question), ai_ms_3])"
   ]
  },
  {
   "cell_type": "code",
   "execution_count": null,
   "metadata": {},
   "outputs": [],
   "source": [
    "chat_history"
   ]
  },
  {
   "cell_type": "markdown",
   "metadata": {},
   "source": [
    "## Running chroma on a docker container"
   ]
  },
  {
   "cell_type": "code",
   "execution_count": 10,
   "metadata": {},
   "outputs": [],
   "source": [
    "# create the chroma client\n",
    "import chromadb\n",
    "from chromadb.config import Settings\n",
    "from langchain.vectorstores import Chroma\n",
    "\n",
    "client = chromadb.HttpClient(host='localhost' , port=8000, settings=Settings(allow_reset=True))"
   ]
  },
  {
   "cell_type": "code",
   "execution_count": 29,
   "metadata": {},
   "outputs": [
    {
     "data": {
      "text/plain": [
       "True"
      ]
     },
     "execution_count": 29,
     "metadata": {},
     "output_type": "execute_result"
    }
   ],
   "source": [
    "client.reset()"
   ]
  },
  {
   "cell_type": "code",
   "execution_count": 21,
   "metadata": {},
   "outputs": [],
   "source": [
    "# load a test documents from the penal code\n",
    "loader = PyPDFLoader(file_path='/Users/nraffa/projects/juriBot/raw-data/commented-penal-code/D´alessio, Andrés J. - Codigo Penal Comentado y Anotado Parte Especial -Tomo II.pdf')\n",
    "\n",
    "textSplitter = RecursiveCharacterTextSplitter(\n",
    "    chunk_size=700,\n",
    "    chunk_overlap=0,\n",
    ")\n",
    "\n",
    "data = loader.load_and_split(textSplitter)"
   ]
  },
  {
   "cell_type": "code",
   "execution_count": 27,
   "metadata": {},
   "outputs": [],
   "source": [
    "from chromadb.utils import embedding_functions\n",
    "\n",
    "sentence_transformer_ef = embedding_functions.SentenceTransformerEmbeddingFunction(model_name='sentence-transformers/LaBSE')"
   ]
  },
  {
   "cell_type": "code",
   "execution_count": null,
   "metadata": {},
   "outputs": [],
   "source": [
    "import uuid\n",
    "\n",
    "# creating collection using custom embedding function from sentence transformer library\n",
    "collection = client.create_collection(name=\"codigo_penal\" , embedding_function=sentence_transformer_ef)"
   ]
  },
  {
   "cell_type": "code",
   "execution_count": 31,
   "metadata": {},
   "outputs": [],
   "source": [
    "for doc in data:\n",
    "    collection.add(\n",
    "        ids=[str(uuid.uuid1())],\n",
    "        metadatas=doc.metadata,\n",
    "        documents=doc.page_content,\n",
    "    )"
   ]
  },
  {
   "cell_type": "code",
   "execution_count": 39,
   "metadata": {},
   "outputs": [],
   "source": [
    "# tell LangChain to use our client and collection name\n",
    "dockerChromaDB = Chroma(\n",
    "    client=client,\n",
    "    collection_name=\"codigo_penal\",\n",
    "    embedding_function=embeddingFunction,\n",
    ")"
   ]
  },
  {
   "cell_type": "code",
   "execution_count": 40,
   "metadata": {},
   "outputs": [
    {
     "name": "stdout",
     "output_type": "stream",
     "text": [
      "lesionar a otra persona. No cabe duda de que la figura de agresión con armas consti­\n",
      "tuye una típica forma de delito de peligro, pues no otro es el fundamento genérico o \n",
      "específico de la incriminación de toda tentativa 602. \n",
      "3.2. ESTRUCTURA TÍPICA \n",
      "Tipo objetivo \n",
      "a) Sujeto activo: La agresión con armas puede ser realizada por cualquier perso-\n",
      "na. \n",
      "b) Sujeto pasivo: Puede ser cualquier persona. \n",
      "c) Acción típica: Es agredi1; que en este caso implica el ataque con el arma para \n",
      "alcanzar con ella el cuerpo de la víctima. La figura comprende tanto el caso en que no \n",
      "se alcanzó el cuerpo con el arma, como el caso en que se lo alcanzó sin causar daños.\n"
     ]
    }
   ],
   "source": [
    "docs = dockerChromaDB.similarity_search(query2)\n",
    "print(docs[0].page_content)"
   ]
  },
  {
   "cell_type": "code",
   "execution_count": null,
   "metadata": {},
   "outputs": [],
   "source": []
  }
 ],
 "metadata": {
  "kernelspec": {
   "display_name": "rag",
   "language": "python",
   "name": "python3"
  },
  "language_info": {
   "codemirror_mode": {
    "name": "ipython",
    "version": 3
   },
   "file_extension": ".py",
   "mimetype": "text/x-python",
   "name": "python",
   "nbconvert_exporter": "python",
   "pygments_lexer": "ipython3",
   "version": "3.10.13"
  }
 },
 "nbformat": 4,
 "nbformat_minor": 2
}
